{
 "metadata": {
  "name": ""
 },
 "nbformat": 3,
 "nbformat_minor": 0,
 "worksheets": [
  {
   "cells": [
    {
     "cell_type": "code",
     "collapsed": false,
     "input": [
      "%pylab inline\n",
      "import Model,datetime, numpy as np"
     ],
     "language": "python",
     "metadata": {},
     "outputs": [
      {
       "output_type": "stream",
       "stream": "stdout",
       "text": [
        "Populating the interactive namespace from numpy and matplotlib\n"
       ]
      }
     ],
     "prompt_number": 1
    },
    {
     "cell_type": "code",
     "collapsed": false,
     "input": [
      "def doModel(Ival):\n",
      "    constantRateNeuron = {'type':\"constantrate\",\n",
      "              'name':\"Very active input neuron with a target rate of up to 20Hz\",\n",
      "              'spikeSep':34E-3,#10Hz, seems reasonable.\n",
      "              'recordAct':False,\n",
      "              'thresh':15.0,\n",
      "              'exScale':1}\n",
      "    singleSpikeBurster = {'type':\"p328\",\n",
      "              'name':\"Demo p328 type neuron\",\n",
      "              'inateProb':0,\n",
      "              'recordAct':True,\n",
      "              'recordV':True,\n",
      "              'C':1.0,\n",
      "              'E_L':-80E-3,\n",
      "              'g_L':8*1E3,\n",
      "              'E_Na':60E-3,\n",
      "              'Na_actP':-20E-3,\n",
      "              'Na_actW':15E-3,\n",
      "              'g_Na':20E3,\n",
      "              'E_K':-90E-3,\n",
      "              'g_K':9E3,\n",
      "              'K_actP':-24E-3,\n",
      "              'K_actW':8E-3,\n",
      "              'K_t':0.19E-3,\n",
      "              'g_KS':20E3,\n",
      "              'KS_actP':-37E-3,\n",
      "              'KS_actW':5E-3,\n",
      "              'KS_t':20E-3,\n",
      "              'I':0,\n",
      "              'threshold':-20E-3,\n",
      "              'exScale':1,\n",
      "              'responseKernel':{'type':'exDecay',\n",
      "                                 'timeConst':0.42,\n",
      "                                 'mult':5}}\n",
      "    segmentNeuron = {'type':\"p328\",\n",
      "              'name':\"Segmental bursting neuron\",\n",
      "              'inateProb':0,\n",
      "              'recordAct':True,\n",
      "              'recordV':True,\n",
      "              'C':1.0,\n",
      "              'E_L':-80E-3,\n",
      "              'g_L':8*1E3,\n",
      "              'E_Na':60E-3,\n",
      "              'Na_actP':-20E-3,\n",
      "              'Na_actW':15E-3,\n",
      "              'g_Na':20E3,\n",
      "              'E_K':-90E-3,\n",
      "              'g_K':9E3,\n",
      "              'K_actP':-25E-3,\n",
      "              'K_actW':5E-3,\n",
      "              'K_t':0.152E-3,\n",
      "              'g_KS':5E3,\n",
      "              'KS_actP':-20E-3,\n",
      "              'KS_actW':6E-3,\n",
      "              'KS_t':30E-3,\n",
      "              'I':Ival,\n",
      "              'threshold':-20E-3,\n",
      "              'exScale':0.15}\n",
      "    stableConn = {'responseKernel':{'type':'PSD',\n",
      "                                 'average':0.002,\n",
      "                                 'theta':5},\n",
      "                'postScale':0.1,\n",
      "                'learn':False,\n",
      "                'active':True}\n",
      "    # This way we can add lots of the same neurons!\n",
      "    neuronsList = {1:constantRateNeuron,\n",
      "                   2:singleSpikeBurster,\n",
      "                   3:segmentNeuron}\n",
      "    # [From,To,Type]\n",
      "    connectionsList = [[1,2,stableConn],\n",
      "                       [2,3,stableConn]]\n",
      "    params={'neurons':neuronsList,\n",
      "            'connections':connectionsList,\n",
      "            'dt':0.01E-3,\n",
      "            'normFactorDX':0.001,\n",
      "            'responseLimitCDF':0.99,\n",
      "            'pickleOutFilePath':\"/home/s1144899/Downloads/testPythonNeurons.pkl\",\n",
      "            'jsonOutFilePath':\"/home/s1144899/Downloads/testPythonNeurons.jso\"\n",
      "            }\n",
      "    print \"Setting up...\"\n",
      "    model1 = Model.Model(params)\n",
      "    print \"Running model...\"\n",
      "    model1.run(300E-3)\n",
      "    return getburstAv(model1,3,0.01)"
     ],
     "language": "python",
     "metadata": {},
     "outputs": [],
     "prompt_number": 72
    },
    {
     "cell_type": "code",
     "collapsed": false,
     "input": [
      "def getburstAv(model1,neuronID,threshold):\n",
      "    #threshold = 0.01\n",
      "    spikes = model1.params['neurons'][neuronID]['spikeOuts']\n",
      "    lastSpikeTime = 0.0\n",
      "    burstOn = False\n",
      "    lastBurstStart = 0.0\n",
      "    bursts = []\n",
      "    diffs = []\n",
      "    noOfSpikesPB = 0\n",
      "    for thisSpike in spikes:\n",
      "        diff = thisSpike-lastSpikeTime\n",
      "        if diff > threshold:\n",
      "            burstOnNew = False\n",
      "        else:\n",
      "            burstOnNew = True\n",
      "            noOfSpikesPB +=1\n",
      "            if burstOn==True:\n",
      "                diffs.append(diff)\n",
      "        if burstOnNew==True and burstOn==False:\n",
      "            lastBurstStart = lastSpikeTime\n",
      "            noOfSpikesPB = 1\n",
      "        if burstOnNew==False and burstOn==True:\n",
      "            bursts.append([lastBurstStart,lastSpikeTime,lastSpikeTime-lastBurstStart,noOfSpikesPB])\n",
      "        lastSpikeTime = thisSpike\n",
      "        burstOn = burstOnNew\n",
      "    burstInfo = []\n",
      "    x = []\n",
      "    spk = []\n",
      "    for burst in bursts:\n",
      "        x.append(burst[2])\n",
      "        spk.append(burst[3])\n",
      "    burstInfo = [np.median(x),np.median(spk),np.mean(diffs),len(bursts)]\n",
      "    return burstInfo"
     ],
     "language": "python",
     "metadata": {},
     "outputs": [],
     "prompt_number": 91
    },
    {
     "cell_type": "code",
     "collapsed": false,
     "input": [
      "outs = []\n",
      "for i in range(10):\n",
      "    outs.append(doModel(0.1*i))"
     ],
     "language": "python",
     "metadata": {},
     "outputs": [
      {
       "output_type": "stream",
       "stream": "stdout",
       "text": [
        "Setting up...\n",
        "Adding neuron  1\n",
        "Adding neuron  2\n",
        "Adding neuron  3\n",
        "Adding connection from  1  to  2\n",
        "3.08196234209e-12  at  0.018\n",
        "Set a normalising factor as:  324468597927.0\n",
        "Adding connection from  2  to  3\n",
        "3.08196234209e-12  at  0.018\n",
        "Set a normalising factor as:  324468597927.0\n",
        "Running model...\n",
        "Setting up..."
       ]
      },
      {
       "output_type": "stream",
       "stream": "stdout",
       "text": [
        "\n",
        "Adding neuron  1\n",
        "Adding neuron  2\n",
        "Adding neuron  3\n",
        "Adding connection from  1  to  2\n",
        "3.08196234209e-12  at  0.018\n",
        "Set a normalising factor as:  324468597927.0\n",
        "Adding connection from  2  to  3\n",
        "3.08196234209e-12  at  0.018\n",
        "Set a normalising factor as:  324468597927.0\n",
        "Running model...\n",
        "Setting up..."
       ]
      },
      {
       "output_type": "stream",
       "stream": "stdout",
       "text": [
        "\n",
        "Adding neuron  1\n",
        "Adding neuron  2\n",
        "Adding neuron  3\n",
        "Adding connection from  1  to  2\n",
        "3.08196234209e-12  at  0.018\n",
        "Set a normalising factor as:  324468597927.0\n",
        "Adding connection from  2  to  3\n",
        "3.08196234209e-12  at  0.018\n",
        "Set a normalising factor as:  324468597927.0\n",
        "Running model...\n",
        "Setting up..."
       ]
      },
      {
       "output_type": "stream",
       "stream": "stdout",
       "text": [
        "\n",
        "Adding neuron  1\n",
        "Adding neuron  2\n",
        "Adding neuron  3\n",
        "Adding connection from  1  to  2\n",
        "3.08196234209e-12  at  0.018\n",
        "Set a normalising factor as:  324468597927.0\n",
        "Adding connection from  2  to  3\n",
        "3.08196234209e-12  at  0.018\n",
        "Set a normalising factor as:  324468597927.0\n",
        "Running model...\n",
        "Setting up..."
       ]
      },
      {
       "output_type": "stream",
       "stream": "stdout",
       "text": [
        "\n",
        "Adding neuron  1\n",
        "Adding neuron  2\n",
        "Adding neuron  3\n",
        "Adding connection from  1  to  2\n",
        "3.08196234209e-12  at  0.018\n",
        "Set a normalising factor as:  324468597927.0\n",
        "Adding connection from  2  to  3\n",
        "3.08196234209e-12  at  0.018\n",
        "Set a normalising factor as:  324468597927.0\n",
        "Running model...\n",
        "Setting up..."
       ]
      },
      {
       "output_type": "stream",
       "stream": "stdout",
       "text": [
        "\n",
        "Adding neuron  1\n",
        "Adding neuron  2\n",
        "Adding neuron  3\n",
        "Adding connection from  1  to  2\n",
        "3.08196234209e-12  at  0.018\n",
        "Set a normalising factor as:  324468597927.0\n",
        "Adding connection from  2  to  3\n",
        "3.08196234209e-12  at  0.018\n",
        "Set a normalising factor as:  324468597927.0\n",
        "Running model...\n",
        "Setting up..."
       ]
      },
      {
       "output_type": "stream",
       "stream": "stdout",
       "text": [
        "\n",
        "Adding neuron  1\n",
        "Adding neuron  2\n",
        "Adding neuron  3\n",
        "Adding connection from  1  to  2\n",
        "3.08196234209e-12  at  0.018\n",
        "Set a normalising factor as:  324468597927.0\n",
        "Adding connection from  2  to  3\n",
        "3.08196234209e-12  at  0.018\n",
        "Set a normalising factor as:  324468597927.0\n",
        "Running model...\n",
        "Setting up..."
       ]
      },
      {
       "output_type": "stream",
       "stream": "stdout",
       "text": [
        "\n",
        "Adding neuron  1\n",
        "Adding neuron  2\n",
        "Adding neuron  3\n",
        "Adding connection from  1  to  2\n",
        "3.08196234209e-12  at  0.018\n",
        "Set a normalising factor as:  324468597927.0\n",
        "Adding connection from  2  to  3\n",
        "3.08196234209e-12  at  0.018\n",
        "Set a normalising factor as:  324468597927.0\n",
        "Running model...\n",
        "Setting up..."
       ]
      },
      {
       "output_type": "stream",
       "stream": "stdout",
       "text": [
        "\n",
        "Adding neuron  1\n",
        "Adding neuron  2\n",
        "Adding neuron  3\n",
        "Adding connection from  1  to  2\n",
        "3.08196234209e-12  at  0.018\n",
        "Set a normalising factor as:  324468597927.0\n",
        "Adding connection from  2  to  3\n",
        "3.08196234209e-12  at  0.018\n",
        "Set a normalising factor as:  324468597927.0\n",
        "Running model...\n",
        "Setting up..."
       ]
      },
      {
       "output_type": "stream",
       "stream": "stdout",
       "text": [
        "\n",
        "Adding neuron  1\n",
        "Adding neuron  2\n",
        "Adding neuron  3\n",
        "Adding connection from  1  to  2\n",
        "3.08196234209e-12  at  0.018\n",
        "Set a normalising factor as:  324468597927.0\n",
        "Adding connection from  2  to  3\n",
        "3.08196234209e-12  at  0.018\n",
        "Set a normalising factor as:  324468597927.0\n",
        "Running model...\n"
       ]
      }
     ],
     "prompt_number": 92
    },
    {
     "cell_type": "code",
     "collapsed": false,
     "input": [
      "x=[]\n",
      "y=[]\n",
      "i=0\n",
      "for out in outs:\n",
      "    x.append(0.1*i)\n",
      "    y.append(out[0])\n",
      "    i+=1\n",
      "plt.plot(x,y)"
     ],
     "language": "python",
     "metadata": {},
     "outputs": [
      {
       "metadata": {},
       "output_type": "pyout",
       "prompt_number": 99,
       "text": [
        "[<matplotlib.lines.Line2D at 0x7f10257051d0>]"
       ]
      },
      {
       "metadata": {},
       "output_type": "display_data",
       "png": "[encoded data removed]",
       "text": [
        "<matplotlib.figure.Figure at 0x7f1025682410>"
       ]
      }
     ],
     "prompt_number": 99
    },
    {
     "cell_type": "code",
     "collapsed": false,
     "input": [
      "outs"
     ],
     "language": "python",
     "metadata": {},
     "outputs": [
      {
       "metadata": {},
       "output_type": "pyout",
       "prompt_number": 93,
       "text": [
        "[[0.0084300000000084307, 10.0, 0.00087052631578998221, 7],\n",
        " [0.0083100000000083107, 10.0, 0.00087077922077970031, 7],\n",
        " [0.0081400000000081407, 10.0, 0.00085142857142904156, 7],\n",
        " [0.0080200000000080207, 10.0, 0.0008366233766238392, 7],\n",
        " [0.0079100000000079107, 10.0, 0.00083513157894783002, 7],\n",
        " [0.0078700000000078707, 10.0, 0.00085883116883162479, 7],\n",
        " [0.0078600000000078607, 10.0, 0.0008706410256415115, 7],\n",
        " [0.0080700000000080707, 10.0, 0.00091617283950668307, 7],\n",
        " [0.0095799999999962859, 11.0, 0.00087500000000047989, 7],\n",
        " [0.0093299999999963829, 11.0, 0.00085825000000047083, 7]]"
       ]
      }
     ],
     "prompt_number": 93
    },
    {
     "cell_type": "code",
     "collapsed": false,
     "input": [
      "s=[]\n",
      "t=[]\n",
      "for out in outs:\n",
      "    s.append(out[2])\n",
      "    t.append(out[0])\n",
      "s = np.asarray(s)\n",
      "t = np.asarray(t)\n",
      "plt.scatter(s*100,t*100)\n",
      "plt.gca().relim()\n",
      "plt.draw()"
     ],
     "language": "python",
     "metadata": {},
     "outputs": [
      {
       "metadata": {},
       "output_type": "display_data",
       "png": "[encoded data removed]",
       "text": [
        "<matplotlib.figure.Figure at 0x7f10258b8e50>"
       ]
      }
     ],
     "prompt_number": 108
    },
    {
     "cell_type": "code",
     "collapsed": false,
     "input": [
      "from Analysis import pltV,pltSpikes"
     ],
     "language": "python",
     "metadata": {},
     "outputs": [],
     "prompt_number": 62
    },
    {
     "cell_type": "code",
     "collapsed": false,
     "input": [
      "pltV(model1,plt,3,'vVals')"
     ],
     "language": "python",
     "metadata": {},
     "outputs": [
      {
       "metadata": {},
       "output_type": "display_data",
       "png": "[encoded data removed]",
       "text": [
        "<matplotlib.figure.Figure at 0x7f10250b0e50>"
       ]
      }
     ],
     "prompt_number": 63
    },
    {
     "cell_type": "code",
     "collapsed": false,
     "input": [
      "pltSpikes(model1,plt,3,-0.03)"
     ],
     "language": "python",
     "metadata": {},
     "outputs": [
      {
       "metadata": {},
       "output_type": "display_data",
       "png": "[encoded data removed]",
       "text": [
        "<matplotlib.figure.Figure at 0x7f1025bac6d0>"
       ]
      }
     ],
     "prompt_number": 64
    }
   ],
   "metadata": {}
  }
 ]
}